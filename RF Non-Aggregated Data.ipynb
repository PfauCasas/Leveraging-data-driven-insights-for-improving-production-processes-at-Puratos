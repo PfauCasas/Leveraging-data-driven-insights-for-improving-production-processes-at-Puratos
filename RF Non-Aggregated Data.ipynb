{
 "cells": [
  {
   "cell_type": "code",
   "execution_count": 1,
   "metadata": {},
   "outputs": [
    {
     "name": "stderr",
     "output_type": "stream",
     "text": [
      "<ipython-input-1-f38bb4e54ff3>:37: SettingWithCopyWarning: \n",
      "A value is trying to be set on a copy of a slice from a DataFrame\n",
      "\n",
      "See the caveats in the documentation: https://pandas.pydata.org/pandas-docs/stable/user_guide/indexing.html#returning-a-view-versus-a-copy\n",
      "  data[f'{column}_RollingStd'][0] = 0\n"
     ]
    }
   ],
   "source": [
    "import pandas as pd\n",
    "from sklearn.preprocessing import StandardScaler\n",
    "from sklearn.ensemble import RandomForestRegressor\n",
    "from sklearn.metrics import mean_absolute_error, mean_squared_error, r2_score\n",
    "\n",
    "\n",
    "# Load your time series dataset\n",
    "data = pd.read_csv(\"C:/Users/raulp/OneDrive/Documenten/KU Leuven/Master HIRB/Thesis/sens_RUL_generated_just.csv\")\n",
    "\n",
    "# Columns to convert to numeric\n",
    "numeric_columns = [\"RMSVibration.mean\", \"Temperature.mean\", \"SpeedPeak.mean\", \"Kurtosis.mean\",\n",
    "                   \"RMSAcceleration.mean\", \"Skewness.mean\", \"MaximumAbsoluteVibration.mean\"]\n",
    "\n",
    "# Use \".\" as decimal seperator instead of \",\"\n",
    "for col in numeric_columns:\n",
    "    data[col] = data[col].str.replace(',', '.')\n",
    "\n",
    "# Convert selected columns to numeric\n",
    "# Parameter errors=\"coerce\" converts problematic values into NaN\n",
    "data[numeric_columns] = data[numeric_columns].apply(pd.to_numeric, errors=\"coerce\")\n",
    "\n",
    "# FEATURE ENGINEERING\n",
    "# Feature 1: Lags and deltas of the attributes\n",
    "#for i in range(1, 10):\n",
    "#    for col in numeric_columns:\n",
    "#        data[f'{col}_Lag{i}'] = data[col].shift(i)\n",
    "#        data[f'{col}_Lag{i}'][i - 1] = data[col][i - 1]\n",
    "#        data[f'{col}_Delta{i}'] = data[col] - data[f'{col}_Lag{i}']\n",
    "\n",
    "# Feature 2: Rolling statistics \n",
    "window_size = 10\n",
    "for column in numeric_columns:\n",
    "    data[f'{column}_RollingMean'] = data[column].rolling(window=window_size, min_periods=1).mean()\n",
    "    data[f'{column}_RollingStd'] = data[column].rolling(window=window_size, min_periods=1).std()\n",
    "    data[f'{column}_RollingMin'] = data[column].rolling(window=window_size, min_periods=1).min()\n",
    "    data[f'{column}_RollingMax'] = data[column].rolling(window=window_size, min_periods=1).max()\n",
    "    data[f'{column}_RollingStd'][0] = 0\n",
    "data = data.drop(['SpeedPeak.mean_RollingMin', 'RMSVibration.mean_RollingMin', 'RMSAcceleration.mean_RollingMin'], axis=1)\n",
    "\n",
    "# Drop columns that are not needed in the analysis\n",
    "# Parameter axis=1 makes sure that we drop columns\n",
    "data = data.drop(['Unnamed: 0', 'Time', 'TrueRUL', 'ReadableDate'], axis=1)\n",
    "\n",
    "# Drop all initial sensor features, hold no importance after other features have been derived\n",
    "data = data.drop(numeric_columns, axis=1)\n",
    "\n",
    "# Drop rows with NaN values, if there are any\n",
    "nan_rows = data[data.isna().any(axis=1)]\n",
    "data = data.dropna()\n",
    "\n",
    "# Assume the 'FloatRUL' column is your target variable, and other columns are features\n",
    "X = data.drop(['FloatRUL'], axis=1)\n",
    "y = data['FloatRUL']\n",
    "\n",
    "# Use the oldest data for training, then the next portion for validation, and the newest for testing\n",
    "# Split 70-15-15\n",
    "train_size = int(0.70 * len(data))\n",
    "val_size = int(0.15 * len(data))\n",
    "train_data, val_data, test_data = data[:train_size], data[train_size:train_size+val_size], data[train_size+val_size:]\n",
    "\n",
    "# Split the data into features (X) and target variable (y)\n",
    "X_train, y_train = train_data.drop('FloatRUL', axis=1), train_data['FloatRUL']\n",
    "X_val, y_val = val_data.drop('FloatRUL', axis=1), val_data['FloatRUL']\n",
    "X_test, y_test = test_data.drop('FloatRUL', axis=1), test_data['FloatRUL']"
   ]
  },
  {
   "cell_type": "code",
   "execution_count": 2,
   "metadata": {},
   "outputs": [
    {
     "name": "stdout",
     "output_type": "stream",
     "text": [
      "Validation RMSE: 20.1979036328545\n",
      "Test RMSE: 23.949726004743432\n"
     ]
    }
   ],
   "source": [
    "from math import sqrt\n",
    "# Build the RF model\n",
    "model = RandomForestRegressor(n_estimators=400, min_samples_split=7, max_features='sqrt', random_state=42, n_jobs=-1)\n",
    "\n",
    "model.fit(X_train, y_train)\n",
    "\n",
    "# Make predictions on the validation set\n",
    "val_predictions = model.predict(X_val)\n",
    "val_mse = mean_squared_error(y_val, val_predictions)\n",
    "val_rmse = sqrt(val_mse)\n",
    "print(f'Validation RMSE: {val_rmse}')\n",
    "\n",
    "# Make predictions on the test set\n",
    "test_predictions = model.predict(X_test)\n",
    "test_mse = mean_squared_error(y_test, test_predictions)\n",
    "test_rmse = sqrt(test_mse)\n",
    "print(f'Test RMSE: {test_rmse}')\n"
   ]
  },
  {
   "cell_type": "code",
   "execution_count": 3,
   "metadata": {},
   "outputs": [
    {
     "name": "stdout",
     "output_type": "stream",
     "text": [
      "['Temperature.mean_RollingMin', 0.13926953743461426]\n",
      "['Temperature.mean_RollingMax', 0.08983500051175428]\n",
      "['Temperature.mean_RollingStd', 0.0582807340743612]\n",
      "['Temperature.mean_RollingMean', 0.057594407772155555]\n",
      "['RMSVibration.mean_RollingMax', 0.05743547881012109]\n",
      "['RMSAcceleration.mean_RollingMax', 0.05639047983569497]\n",
      "['MaximumAbsoluteVibration.mean_RollingStd', 0.05223157667875908]\n",
      "['SpeedPeak.mean_RollingMax', 0.04993521321665059]\n",
      "['MaximumAbsoluteVibration.mean_RollingMax', 0.04879569668688313]\n",
      "['SpeedPeak.mean_RollingStd', 0.0481295717571082]\n",
      "['SpeedPeak.mean_RollingMean', 0.043201253287659704]\n",
      "['RMSAcceleration.mean_RollingStd', 0.04153202957121674]\n",
      "['RMSVibration.mean_RollingStd', 0.041413697696339014]\n",
      "['Kurtosis.mean_RollingStd', 0.04120055429347782]\n",
      "['RMSVibration.mean_RollingMean', 0.03772601998463742]\n",
      "['RMSAcceleration.mean_RollingMean', 0.03766615321607777]\n",
      "['MaximumAbsoluteVibration.mean_RollingMean', 0.03625868729332135]\n",
      "['Kurtosis.mean_RollingMean', 0.0355759582752309]\n",
      "['Kurtosis.mean_RollingMax', 0.020451457938050206]\n",
      "['Kurtosis.mean_RollingMin', 0.003788335051940064]\n",
      "['Skewness.mean_RollingMean', 0.000946244019723537]\n",
      "['Skewness.mean_RollingStd', 0.0007844169650174052]\n",
      "['MaximumAbsoluteVibration.mean_RollingMin', 0.0006055970033583529]\n",
      "['Skewness.mean_RollingMax', 0.0005937796166706828]\n",
      "['Skewness.mean_RollingMin', 0.0003581190091767889]\n"
     ]
    }
   ],
   "source": [
    "# Check feature importances\n",
    "feature_importances = model.feature_importances_\n",
    "feature_names = X_train.columns\n",
    "\n",
    "imp = []\n",
    "for feature, importance in zip(feature_names, feature_importances):\n",
    "    imp.append([feature, importance])\n",
    "\n",
    "def keyFunc(mtx):\n",
    "    return mtx[1]\n",
    "\n",
    "imp.sort(reverse=True, key=keyFunc)\n",
    "for elem in imp:\n",
    "    print(elem)"
   ]
  },
  {
   "cell_type": "code",
   "execution_count": null,
   "metadata": {
    "scrolled": false
   },
   "outputs": [],
   "source": [
    "from sklearn.model_selection import ParameterGrid\n",
    "\n",
    "estimators = []\n",
    "for i in range(50, 401, 10):\n",
    "    estimators.append(i)\n",
    "    \n",
    "samplessplit = []\n",
    "for i in range(2, 13):\n",
    "    samplessplit.append(i)\n",
    "\n",
    "param_grid = {\"n_estimators\": estimators,\n",
    "              \"max_features\": [\"sqrt\", \"log2\"],\n",
    "              \"min_samples_split\": samplessplit,\n",
    "              \"random_state\": [42],\n",
    "              \"n_jobs\": [-1]}\n",
    "\n",
    "param_grid = ParameterGrid(param_grid)\n",
    "best_score = float('-inf')\n",
    "best_params = None\n",
    "rf = RandomForestRegressor()\n",
    "for i, params in enumerate(param_grid, start=1):\n",
    "    rf.set_params(**params)\n",
    "    rf.fit(X_train, y_train)\n",
    "    score = rf.score(X_val, y_val)\n",
    "    print(f'Iteration {i}/{len(param_grid)} - Parameters: {params}, Score: {score}')\n",
    "    if score > best_score:\n",
    "        best_score = score\n",
    "        best_params = params\n",
    "best_rf_model = RandomForestRegressor()\n",
    "best_rf_model.set_params(**best_params)\n",
    "best_rf_model.fit(X_train, y_train)"
   ]
  },
  {
   "cell_type": "code",
   "execution_count": null,
   "metadata": {},
   "outputs": [],
   "source": [
    "print(\"R2 train set:\", model.score(X_train, y_train))\n",
    "print(\"R2 validation set:\", model.score(X_val, y_val))\n",
    "print(\"R2 test set:\", model.score(X_test, y_test))\n",
    "\n",
    "print(\"\\nBest model according to Grid Search:\")\n",
    "print(\"R2 train set:\", best_rf_model.score(X_train, y_train))\n",
    "print(\"R2 validation set:\", best_rf_model.score(X_val, y_val))\n",
    "print(\"R2 test set:\", best_rf_model.score(X_test, y_test))"
   ]
  },
  {
   "cell_type": "code",
   "execution_count": 24,
   "metadata": {},
   "outputs": [
    {
     "name": "stdout",
     "output_type": "stream",
     "text": [
      "Validation RMSE: 20.1979036328545\n"
     ]
    }
   ],
   "source": [
    "val_predictions = best_rf_model.predict(X_val)\n",
    "val_mse = mean_squared_error(y_val, val_predictions)\n",
    "val_rmse = sqrt(val_mse)\n",
    "print(f'Validation RMSE: {val_rmse}')"
   ]
  },
  {
   "cell_type": "code",
   "execution_count": 13,
   "metadata": {},
   "outputs": [],
   "source": [
    "from math import sqrt\n",
    "\n",
    "\n",
    "def test_architecture(window_size, lags):\n",
    "    # Load your time series dataset\n",
    "    data = pd.read_csv(\"C:/Users/raulp/OneDrive/Documenten/KU Leuven/Master HIRB/Thesis/sens_RUL_generated_just.csv\")\n",
    "\n",
    "    # Columns to convert to numeric\n",
    "    numeric_columns = [\"RMSVibration.mean\", \"Temperature.mean\", \"SpeedPeak.mean\", \"Kurtosis.mean\",\n",
    "                       \"RMSAcceleration.mean\", \"Skewness.mean\", \"MaximumAbsoluteVibration.mean\"]\n",
    "\n",
    "    # Use \".\" as decimal seperator instead of \",\"\n",
    "    for col in numeric_columns:\n",
    "        data[col] = data[col].str.replace(',', '.')\n",
    "\n",
    "    # Convert selected columns to numeric\n",
    "    # Parameter errors=\"coerce\" converts problematic values into NaN\n",
    "    data[numeric_columns] = data[numeric_columns].apply(pd.to_numeric, errors=\"coerce\")\n",
    "\n",
    "    # FEATURE ENGINEERING\n",
    "    # Feature 1: Lags and deltas of the attributes\n",
    "    for i in range(1, lags + 1):\n",
    "        for col in numeric_columns:\n",
    "            data[f'{col}_Lag{i}'] = data[col].shift(i)\n",
    "            data[f'{col}_Lag{i}'][i - 1] = data[col][i - 1]\n",
    "            data[f'{col}_Delta{i}'] = data[col] - data[f'{col}_Lag{i}']\n",
    "\n",
    "    # Feature 2: Rolling statistics \n",
    "    for column in numeric_columns:\n",
    "        data[f'{column}_RollingMean'] = data[column].rolling(window=window_size, min_periods=1).mean()\n",
    "        data[f'{column}_RollingStd'] = data[column].rolling(window=window_size, min_periods=1).std()\n",
    "        data[f'{column}_RollingMin'] = data[column].rolling(window=window_size, min_periods=1).min()\n",
    "        data[f'{column}_RollingMax'] = data[column].rolling(window=window_size, min_periods=1).max()\n",
    "        data[f'{column}_RollingStd'][0] = 0\n",
    "\n",
    "    # Drop columns that are not needed in the analysis\n",
    "    # Parameter axis=1 makes sure that we drop columns\n",
    "    data = data.drop(['Unnamed: 0', 'Time', 'TrueRUL', 'ReadableDate'], axis=1)\n",
    "\n",
    "    # Drop all initial sensor features, hold no importance after other features have been derived\n",
    "    #data = data.drop(numeric_columns, axis=1)\n",
    "\n",
    "    # Drop rows with NaN values, if there are any\n",
    "    #nan_rows = data[data.isna().any(axis=1)]\n",
    "    data = data.dropna()\n",
    "\n",
    "    # Assume the 'FloatRUL' column is your target variable, and other columns are features\n",
    "    X = data.drop(['FloatRUL'], axis=1)\n",
    "    y = data['FloatRUL']\n",
    "\n",
    "    # Use the oldest data for training, then the next portion for validation, and the newest for testing\n",
    "    # Split 70-15-15\n",
    "    train_size = int(0.70 * len(data))\n",
    "    val_size = int(0.15 * len(data))\n",
    "    train_data, val_data, test_data = data[:train_size], data[train_size:train_size+val_size], data[train_size+val_size:]\n",
    "\n",
    "    # Split the data into features (X) and target variable (y)\n",
    "    X_train, y_train = train_data.drop('FloatRUL', axis=1), train_data['FloatRUL']\n",
    "    X_val, y_val = val_data.drop('FloatRUL', axis=1), val_data['FloatRUL']\n",
    "    X_test, y_test = test_data.drop('FloatRUL', axis=1), test_data['FloatRUL']\n",
    "    \n",
    "    test_model = RandomForestRegressor(max_features='sqrt', min_samples_split=8, n_estimators=370, n_jobs=-1, random_state=42)\n",
    "    test_model.fit(X_train, y_train)\n",
    "    \n",
    "    # Make predictions on the validation set\n",
    "    val_predictions = test_model.predict(X_val)\n",
    "    val_mse = mean_squared_error(y_val, val_predictions)\n",
    "    val_rmse = sqrt(val_mse)\n",
    "    \n",
    "    return val_rmse, test_model.score(X_val, y_val)"
   ]
  },
  {
   "cell_type": "code",
   "execution_count": null,
   "metadata": {},
   "outputs": [],
   "source": [
    "import warnings\n",
    "\n",
    "# Suppress SettingWithCopyWarning\n",
    "warnings.filterwarnings('ignore', category=pd.core.common.SettingWithCopyWarning)\n",
    "\n",
    "bestrmse = 99\n",
    "for i in range(2, 61):\n",
    "    for j in range(1, 11):\n",
    "        rmse, score = test_architecture(i, j)\n",
    "        print(f'window size {i} & {j} lags: RMSE = {rmse}, R2 = {score}')\n",
    "        if rmse < bestrmse:\n",
    "            bestrmse = rmse\n",
    "            bestscore = score\n",
    "            bestwindow = i\n",
    "            bestlags = j\n",
    "\n",
    "print(f'Best results: window size {bestwindow} & {bestlags} lags: RMSE = {bestrmse}, R2 = {bestscore}')"
   ]
  },
  {
   "cell_type": "code",
   "execution_count": 5,
   "metadata": {},
   "outputs": [
    {
     "name": "stdout",
     "output_type": "stream",
     "text": [
      "Test RMSE: 18.75965176725428\n",
      "R2 test set: -15.35500404015109\n"
     ]
    }
   ],
   "source": [
    "from math import sqrt\n",
    "\n",
    "# Combine train and validation sets (resulting in a 85-15 split) in order to report final results\n",
    "train_data_final, test_data_final = data[:train_size+val_size], data[train_size+val_size:]\n",
    "\n",
    "# Split the data into features (X) and target variable (y)\n",
    "X_train_final, y_train_final = train_data_final.drop('FloatRUL', axis=1), train_data_final['FloatRUL']\n",
    "X_test_final, y_test_final = test_data_final.drop('FloatRUL', axis=1), test_data_final['FloatRUL']\n",
    "\n",
    "# Train the model\n",
    "best_rf_model.fit(X_train_final, y_train_final)\n",
    "\n",
    "# Evaluate on the test set\n",
    "test_predictions = best_rf_model.predict(X_test_final)\n",
    "test_rmse = sqrt(mean_squared_error(y_test_final, test_predictions))\n",
    "print(f'Test RMSE: {test_rmse}')\n",
    "print(\"R2 test set:\", best_rf_model.score(X_test_final, y_test_final))"
   ]
  },
  {
   "cell_type": "code",
   "execution_count": null,
   "metadata": {},
   "outputs": [],
   "source": [
    "y_test_final_reset = y_test_final.reset_index(drop=True)\n",
    "\n",
    "# Convert the arrays to pandas Series\n",
    "predictions_series = pd.Series(test_predictions, name=\"Predictions\")\n",
    "true_values_series = pd.Series(y_test_final_reset, name=\"True values\")\n",
    "\n",
    "# Concatenate the Series into a single DataFrame\n",
    "df = pd.concat([predictions_series, true_values_series], axis=1)\n"
   ]
  },
  {
   "cell_type": "code",
   "execution_count": 30,
   "metadata": {},
   "outputs": [
    {
     "data": {
      "image/png": "[encoded data removed]",
      "text/plain": [
       "<Figure size 720x432 with 1 Axes>"
      ]
     },
     "metadata": {
      "needs_background": "light"
     },
     "output_type": "display_data"
    }
   ],
   "source": [
    "import matplotlib.pyplot as plt\n",
    "import numpy as np\n",
    "\n",
    "# Uittellen zodat we een voorspelling per uur krijgen, in lijn met Ward zijn deel\n",
    "shortened_predictions = [test_predictions[i] for i in range(0, len(test_predictions), 500)]\n",
    "shortened_y_test = [y_test_final_reset[i] for i in range(0, len(y_test_final_reset), 500)]\n",
    "\n",
    "plt.figure(figsize=(10, 6))\n",
    "plt.plot(test_predictions, label='Predictions', color='red')\n",
    "plt.plot(y_test_final_reset, label='True Values', color='green')\n",
    "plt.xlabel('Time')\n",
    "plt.ylabel('RUL (in days)')\n",
    "plt.title('RF on non-aggregated data')\n",
    "plt.legend(loc='upper left')\n",
    "plt.grid(True)\n",
    "\n",
    "plt.savefig(\"Plot non aggregated data.pdf\")\n",
    "\n",
    "plt.show()\n"
   ]
  },
  {
   "cell_type": "code",
   "execution_count": null,
   "metadata": {},
   "outputs": [],
   "source": []
  }
 ],
 "metadata": {
  "kernelspec": {
   "display_name": "Python 3",
   "language": "python",
   "name": "python3"
  },
  "language_info": {
   "codemirror_mode": {
    "name": "ipython",
    "version": 3
   },
   "file_extension": ".py",
   "mimetype": "text/x-python",
   "name": "python",
   "nbconvert_exporter": "python",
   "pygments_lexer": "ipython3",
   "version": "3.8.5"
  }
 },
 "nbformat": 4,
 "nbformat_minor": 4
}
