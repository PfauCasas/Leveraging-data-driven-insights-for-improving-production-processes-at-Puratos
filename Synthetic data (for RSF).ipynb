{
 "cells": [
  {
   "cell_type": "markdown",
   "id": "3691eec6",
   "metadata": {},
   "source": [
    "### Mean & Variance of original data"
   ]
  },
  {
   "cell_type": "code",
   "execution_count": 5,
   "id": "55ba1e2d",
   "metadata": {},
   "outputs": [
    {
     "name": "stdout",
     "output_type": "stream",
     "text": [
      "Feature: RMSVibration.mean\n",
      "Mean: 0.06833735048410561\n",
      "Standard Deviation: 3.1925745149741926\n",
      "\n",
      "Feature: Temperature.mean\n",
      "Mean: 29.454999538602593\n",
      "Standard Deviation: 10.842024123756904\n",
      "\n",
      "Feature: SpeedPeak.mean\n",
      "Mean: 32.931833661203065\n",
      "Standard Deviation: 188.90170785792773\n",
      "\n",
      "Feature: Kurtosis.mean\n",
      "Mean: -0.30518701184578706\n",
      "Standard Deviation: 1.756716371743166\n",
      "\n",
      "Feature: MaximumAbsoluteVibration.mean\n",
      "Mean: 0.18519815104428922\n",
      "Standard Deviation: 1.2684597188373608\n",
      "\n",
      "Feature: RMSAcceleration.mean\n",
      "Mean: 0.06054332737825015\n",
      "Standard Deviation: 0.09436486890417255\n",
      "\n",
      "Feature: Skewness.mean\n",
      "Mean: 0.00035740454610618205\n",
      "Standard Deviation: 0.1649944870177848\n",
      "\n"
     ]
    }
   ],
   "source": [
    "import pandas as pd\n",
    "import numpy as np\n",
    "\n",
    "# reads orginal sensordata to datafram\n",
    "data = pd.read_excel(\"/Users/wardmestdagh/Documents/HIRB/THESIS/DOCUMENTEN PURATOS/SENSOR DATA/sensordata (09-2022_06-2023).xlsx\")\n",
    "\n",
    "# considered features \n",
    "features = [\"RMSVibration.mean\", \"Temperature.mean\", \"SpeedPeak.mean\", \n",
    "            \"Kurtosis.mean\", \"MaximumAbsoluteVibration.mean\", \n",
    "            \"RMSAcceleration.mean\", \"Skewness.mean\"]\n",
    "\n",
    "# computes the stddv and the mean of eahc feature\n",
    "for feature in features:\n",
    "    mean_value = np.mean(data[feature])\n",
    "    std_value = np.std(data[feature])\n",
    "    \n",
    "    print(\"Feature:\", feature)\n",
    "    print(\"Mean:\", mean_value)\n",
    "    print(\"Standard Deviation:\", std_value)\n",
    "    print()\n",
    "    \n",
    "    "
   ]
  },
  {
   "cell_type": "markdown",
   "id": "25efac87",
   "metadata": {},
   "source": [
    "### Synthetic data"
   ]
  },
  {
   "cell_type": "code",
   "execution_count": 8,
   "id": "02fb0d18",
   "metadata": {},
   "outputs": [],
   "source": [
    "import pandas as pd\n",
    "import numpy as np\n",
    "from datetime import datetime, timedelta\n",
    "\n",
    "# defines parameters \n",
    "start_date = datetime(2022, 9, 1)\n",
    "end_date = datetime(2023, 6, 30)\n",
    "num_hours = int((end_date - start_date).total_seconds() / 3600)\n",
    "\n",
    "# generates timestamps\n",
    "timestamps = [start_date + timedelta(hours=i) for i in range(num_hours)]\n",
    "\n",
    "# generates synthetic sensor readings\n",
    "np.random.seed(0) \n",
    "\n",
    "# for each feature: draws num_hours instances a out of a normal distribution (with same stdv and mean as the feature in the orginal data)\n",
    "sensor_data = pd.DataFrame({\n",
    "    'ReadableDate': timestamps,\n",
    "    'RMSVibration.mean': np.random.normal(loc=0.06833735048410561, scale=3.1925745149741926, size=num_hours),\n",
    "    'Temperature.mean': np.random.normal(loc=29.454999538602593, scale=10.842024123756904, size=num_hours),\n",
    "    'SpeedPeak.mean': np.random.normal(loc=10.842024123756904, scale=188.90170785792773, size=num_hours),\n",
    "    'Kurtosis.mean': np.random.normal(loc=-0.30518701184578706, scale=1.756716371743166, size=num_hours),\n",
    "    'MaximumAbsoluteVibration.mean': np.random.normal(loc=0.18519815104428922, scale=1.2684597188373608, size=num_hours),\n",
    "    'RMSAcceleration.mean': np.random.normal(loc=0.06054332737825015, scale=0.09436486890417255, size=num_hours),\n",
    "    'Skewness.mean': np.random.normal(loc=0.00035740454610618205, scale=0.1649944870177848, size=num_hours),\n",
    "})\n",
    "\n",
    "# generate breakdown events with a realistic trigger (if absolute deviation of the previous 5 readings exceeds a treshold, we label the intance with as a breakdwon )\n",
    "sensor_data['Breakdown'] = 0\n",
    "threshold = 0.62 # this treshold was determined by trail and error method. Where we looked at which treshold created the best data file.\n",
    "for index in range(5, num_hours):\n",
    "    # previous 5 sensor readings (of the analysed instance)\n",
    "    sensor_data_slice = sensor_data.iloc[index-5:index]\n",
    "    \n",
    "    # calculates the deviations of sensor readings from their mean\n",
    "    deviations = sensor_data_slice[[\"RMSVibration.mean\", \"Temperature.mean\", \"SpeedPeak.mean\", \n",
    "            \"Kurtosis.mean\", \"MaximumAbsoluteVibration.mean\", \n",
    "            \"RMSAcceleration.mean\", \"Skewness.mean\"]].apply(lambda x: x - x.mean())\n",
    "    \n",
    "    # determines the likelihood of breakdown based on deviations for each sensor reading\n",
    "    likelihoods = 1 - np.exp(-deviations.abs()) \n",
    "    \n",
    "    # takes the average likelihood across all sensor readings\n",
    "    likelihood = likelihoods.mean().mean()  \n",
    "    \n",
    "    # label analysed instance as a breakdown, if likelihood is bigger than treshhold\n",
    "    if threshold < likelihood:\n",
    "        sensor_data.loc[index, 'Breakdown'] = 1\n",
    "\n",
    "# data to csv file\n",
    "sensor_data = sensor_data.iloc[5:]\n",
    "sensor_data.to_csv('synthetic_dataset.csv', index=False)\n"
   ]
  },
  {
   "cell_type": "code",
   "execution_count": null,
   "id": "7ef18bf4",
   "metadata": {},
   "outputs": [],
   "source": []
  }
 ],
 "metadata": {
  "kernelspec": {
   "display_name": "Python 3 (ipykernel)",
   "language": "python",
   "name": "python3"
  },
  "language_info": {
   "codemirror_mode": {
    "name": "ipython",
    "version": 3
   },
   "file_extension": ".py",
   "mimetype": "text/x-python",
   "name": "python",
   "nbconvert_exporter": "python",
   "pygments_lexer": "ipython3",
   "version": "3.11.5"
  }
 },
 "nbformat": 4,
 "nbformat_minor": 5
}
